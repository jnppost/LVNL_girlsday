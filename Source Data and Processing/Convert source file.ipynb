{
 "cells": [
  {
   "attachments": {},
   "cell_type": "markdown",
   "metadata": {},
   "source": [
    "This script takes a geopackage file, for example from the Dutch CBS, and turns it into a shapefile that can be opened in your preferred GIS software (I prefer QGIS).\n",
    "\n",
    "The dataset is described by the CBS here: https://www.cbs.nl/nl-nl/longread/diversen/2022/statistische-gegevens-per-vierkant-2021-2020-2019?onepage=true\n",
    "500x500m datasets can be found here: https://www.cbs.nl/nl-nl/dossier/nederland-regionaal/geografische-data/kaart-van-500-meter-bij-500-meter-met-statistieken\n",
    "100x100m datasets can be found here: https://www.cbs.nl/nl-nl/dossier/nederland-regionaal/geografische-data/kaart-van-100-meter-bij-100-meter-met-statistieken\n",
    "\n",
    "For the purpose of this, which is to let high-school students design a new route towards Schiphol, 500m is enough resolution\n",
    "\n",
    "The geopackage file that can be extracted from the downloaded zip needs to be placed into the input folder that is in the root folder of this file. When this script is run a shapefile (.shp) is placed in the output folder as a result."
   ]
  },
  {
   "cell_type": "code",
   "execution_count": 24,
   "metadata": {},
   "outputs": [],
   "source": [
    "# This cell imports needed packages\n",
    "# Fiona is needed to read the geopackage\n",
    "# pyproj is needed to shiftfrom the used Dutch Rijksdriehoek to the more widely accepted WGS84\n",
    "# shapely is used to convert a list to the geometry type that is needed\n",
    "# pandas and geopandas are used to create the dataframe and export it as a shapefile\n",
    "\n",
    "import fiona\n",
    "import pyproj\n",
    "import shapely\n",
    "import pandas as pd\n",
    "import geopandas"
   ]
  },
  {
   "attachments": {},
   "cell_type": "markdown",
   "metadata": {},
   "source": [
    "Here the input file needs to be defined:"
   ]
  },
  {
   "cell_type": "code",
   "execution_count": 22,
   "metadata": {},
   "outputs": [],
   "source": [
    "inputfile = \"cbs_vk500_2019_vol.gpkg\""
   ]
  },
  {
   "attachments": {},
   "cell_type": "markdown",
   "metadata": {},
   "source": [
    "Here the data that is exported and used later in the process is selected. For this, the population of a cell is selected, but anything in the dataset can be used."
   ]
  },
  {
   "cell_type": "code",
   "execution_count": 20,
   "metadata": {},
   "outputs": [],
   "source": [
    "selected_data = 'aantal_inwoners'"
   ]
  },
  {
   "cell_type": "code",
   "execution_count": 25,
   "metadata": {},
   "outputs": [],
   "source": [
    "gpkg = \"A - Input//\" + inputfile\n",
    "c = fiona.open(gpkg)\n",
    "\n",
    "# transformer that takes RD coordinates and transforms them to WGS84\n",
    "forward_transformer = pyproj.Transformer.from_crs(28992, 4326)\n",
    "\n",
    "#lists for data and coordinates are created\n",
    "list1 = []\n",
    "list2 = []\n",
    "\n",
    "#features are looped through\n",
    "for feature in c:\n",
    "\n",
    "    #needed data set is selected\n",
    "    inwoners = feature['properties'][selected_data]\n",
    "\n",
    "    #some cells contain negative data, these are set to 0\n",
    "    if inwoners < 0:\n",
    "        inwoners = 0\n",
    "    \n",
    "    #population is appended to list\n",
    "    list1.append(inwoners)\n",
    "\n",
    "    # rectangle needs to be created as a polygon, in order to do this the first coordinate is used twice as it needs to close; hence 5 values\n",
    "    # these 5 values are extracted and converted from RD coords\n",
    "    coords1 = forward_transformer.transform(feature['geometry']['coordinates'][0][0][0][0],feature['geometry']['coordinates'][0][0][0][1])\n",
    "    coords2 = forward_transformer.transform(feature['geometry']['coordinates'][0][0][1][0],feature['geometry']['coordinates'][0][0][1][1])\n",
    "    coords3 = forward_transformer.transform(feature['geometry']['coordinates'][0][0][2][0],feature['geometry']['coordinates'][0][0][2][1])\n",
    "    coords4 = forward_transformer.transform(feature['geometry']['coordinates'][0][0][3][0],feature['geometry']['coordinates'][0][0][3][1])\n",
    "    coords5 = forward_transformer.transform(feature['geometry']['coordinates'][0][0][4][0],feature['geometry']['coordinates'][0][0][4][1])\n",
    "\n",
    "    #coords are swapped around\n",
    "    coords1 = coords1[1], coords1[0]\n",
    "    coords2 = coords2[1], coords2[0]\n",
    "    coords3 = coords3[1], coords3[0]\n",
    "    coords4 = coords4[1], coords4[0]\n",
    "    coords5 = coords5[1], coords5[0]\n",
    "\n",
    "    #coords are appended to list\n",
    "    list2.append([coords1,coords2,coords3,coords4,coords5])\n",
    "        "
   ]
  },
  {
   "cell_type": "code",
   "execution_count": 11,
   "metadata": {},
   "outputs": [],
   "source": [
    "# list with coordinates is looped through\n",
    "# per instance each list with 5 entries is turned into a polygon\n",
    "for i in range(len(list2)):\n",
    "    list2[i] = shapely.Polygon(list2[i])"
   ]
  },
  {
   "cell_type": "code",
   "execution_count": 14,
   "metadata": {},
   "outputs": [],
   "source": [
    "# the lists are combined into a dataframe, which is transposed to be correct\n",
    "df = pd.DataFrame((list1, list2))\n",
    "df = df.T\n",
    "# labels are added\n",
    "df.columns = [\"inwoners\",\"Polygon\" ]\n",
    "# dataframe is turned into a geodataframe that can work with geometries\n",
    "df = geopandas.GeoDataFrame(df, geometry='Polygon', crs='EPSG:4326')\n",
    "# population is turned into an integer\n",
    "df.inwoners = pd.to_numeric(df.inwoners)"
   ]
  },
  {
   "cell_type": "code",
   "execution_count": 19,
   "metadata": {},
   "outputs": [],
   "source": [
    "# geodataframe containing data and coordinates is exported\n",
    "df.to_file('B - Output//datamap.shp', driver='ESRI Shapefile')"
   ]
  }
 ],
 "metadata": {
  "kernelspec": {
   "display_name": "ilabs311",
   "language": "python",
   "name": "python3"
  },
  "language_info": {
   "codemirror_mode": {
    "name": "ipython",
    "version": 3
   },
   "file_extension": ".py",
   "mimetype": "text/x-python",
   "name": "python",
   "nbconvert_exporter": "python",
   "pygments_lexer": "ipython3",
   "version": "3.11.0"
  },
  "orig_nbformat": 4
 },
 "nbformat": 4,
 "nbformat_minor": 2
}
