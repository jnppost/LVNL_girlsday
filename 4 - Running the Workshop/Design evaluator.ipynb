{
 "cells": [
  {
   "attachments": {},
   "cell_type": "markdown",
   "metadata": {},
   "source": [
    "This script takes a route design and calculates a distance and a (arbitrary) noise metric. Next to this, there is also a way to take the route design and have it flown by an aircraft with realistic physics via BlueSky, after which the route can be analysed. At the end of this notebook there are some alternative noise evaluations listed, but for the purpose of this script it doesnt really matter as long as the increase is realistic."
   ]
  },
  {
   "cell_type": "code",
   "execution_count": 12,
   "metadata": {},
   "outputs": [],
   "source": [
    "# needed packages are loaded\n",
    "import pyproj\n",
    "import geopandas\n",
    "import pandas as pd\n",
    "import shapely\n",
    "import numpy as np"
   ]
  },
  {
   "cell_type": "code",
   "execution_count": 6,
   "metadata": {},
   "outputs": [],
   "source": [
    "# load the map containing the data and the CRS the maps are made in\n",
    "wgs84_geod = pyproj.Geod(ellps='WGS84')\n",
    "data = geopandas.read_file('..//1 - Source Data and Processing//B - Output//datamap.shp')\n",
    "\n",
    "#define function that returns distance between two points (and bearing if wanted, but not necessary here)\n",
    "def Distance(lat1,lon1,lat2,lon2):\n",
    "  az12,az21,dist = wgs84_geod.inv(lon1,lat1,lon2,lat2)\n",
    "  return dist"
   ]
  },
  {
   "cell_type": "code",
   "execution_count": 7,
   "metadata": {},
   "outputs": [],
   "source": [
    "#enter starting coordinates from 2 - Extra Maps\n",
    "start_coord = [[51.690536,5.890132]]\n",
    "last_coord = [52.1958388,5.0733256]\n",
    "\n",
    "#create points from coordinates\n",
    "p1 = shapely.Point(start_coord[0][1], start_coord[0][0])\n",
    "p2 = shapely.Point(last_coord[1], last_coord[0])\n",
    "\n",
    "#create line between two points\n",
    "line = shapely.LineString([p1,p2])\n",
    "\n",
    "# shapely works in arbitrary distances so a meter needs to be defined based on the values it uses\n",
    "shapely_meter = line.length / Distance(start_coord[0][0], start_coord[0][1], last_coord[0], last_coord[1])\n",
    "\n",
    "#segments of 100m are used in evaluation of noise\n",
    "segmentlength = shapely_meter*100"
   ]
  },
  {
   "cell_type": "code",
   "execution_count": null,
   "metadata": {},
   "outputs": [],
   "source": [
    "# The following function returns the dataframe that needs to be evaluated for noise and distances\n",
    "# It automatically scales based on the amount of segments used\n",
    "# In the previous run students could add up to 5 points, leading to a maximum of 6 segments\n",
    "\n",
    "def append_coords(start_coord, coord_1, coord_2, coord_3, coord_4, coord_5, last_coord):\n",
    "    coordslist = start_coord\n",
    "    if coord_1 == []:\n",
    "        # coords.append(start_coord)\n",
    "        coordslist.append(last_coord)\n",
    "    elif coord_2 == []:\n",
    "        # coords.append(start_coord)\n",
    "        coordslist.append(coord_1)\n",
    "        coordslist.append(last_coord)\n",
    "    elif coord_3 == []:\n",
    "        # coords.append(start_coord)\n",
    "        coordslist.append(coord_1)\n",
    "        coordslist.append(coord_2)\n",
    "        coordslist.append(last_coord)\n",
    "    elif coord_4 == []:\n",
    "        # coords.append(start_coord)\n",
    "        coordslist.append(coord_1)\n",
    "        coordslist.append(coord_2)\n",
    "        coordslist.append(coord_3)\n",
    "        coordslist.append(last_coord)\n",
    "    elif coord_5 == []:\n",
    "        # coords.append(start_coord)\n",
    "        coordslist.append(coord_1)\n",
    "        coordslist.append(coord_2)\n",
    "        coordslist.append(coord_3)\n",
    "        coordslist.append(coord_4)\n",
    "        coordslist.append(last_coord)\n",
    "    else:\n",
    "        # coords.append(start_coord)\n",
    "        coordslist.append(coord_1)\n",
    "        coordslist.append(coord_2)\n",
    "        coordslist.append(coord_3)\n",
    "        coordslist.append(coord_4)\n",
    "        coordslist.append(coord_5)\n",
    "        coordslist.append(last_coord)\n",
    "    coords = pd.DataFrame(coordslist, columns = ['lat','lon'])\n",
    "    return coords"
   ]
  },
  {
   "attachments": {},
   "cell_type": "markdown",
   "metadata": {},
   "source": [
    "The cells above only need to be run once, with the 3 cells below used to evaluate routes\n",
    "\n",
    "As a workflow, students brought a map with defined points. The coordinates of these points were looked up in QGIS, and entered below in order. After a run, the commented code could be used to replace the filled lists"
   ]
  },
  {
   "cell_type": "code",
   "execution_count": 10,
   "metadata": {},
   "outputs": [
    {
     "data": {
      "text/html": [
       "<div>\n",
       "<style scoped>\n",
       "    .dataframe tbody tr th:only-of-type {\n",
       "        vertical-align: middle;\n",
       "    }\n",
       "\n",
       "    .dataframe tbody tr th {\n",
       "        vertical-align: top;\n",
       "    }\n",
       "\n",
       "    .dataframe thead th {\n",
       "        text-align: right;\n",
       "    }\n",
       "</style>\n",
       "<table border=\"1\" class=\"dataframe\">\n",
       "  <thead>\n",
       "    <tr style=\"text-align: right;\">\n",
       "      <th></th>\n",
       "      <th>lat</th>\n",
       "      <th>lon</th>\n",
       "    </tr>\n",
       "  </thead>\n",
       "  <tbody>\n",
       "    <tr>\n",
       "      <th>0</th>\n",
       "      <td>51.690536</td>\n",
       "      <td>5.890132</td>\n",
       "    </tr>\n",
       "    <tr>\n",
       "      <th>1</th>\n",
       "      <td>51.727300</td>\n",
       "      <td>5.672410</td>\n",
       "    </tr>\n",
       "    <tr>\n",
       "      <th>2</th>\n",
       "      <td>51.976470</td>\n",
       "      <td>5.381480</td>\n",
       "    </tr>\n",
       "    <tr>\n",
       "      <th>3</th>\n",
       "      <td>52.126500</td>\n",
       "      <td>5.328650</td>\n",
       "    </tr>\n",
       "    <tr>\n",
       "      <th>4</th>\n",
       "      <td>52.189770</td>\n",
       "      <td>5.185800</td>\n",
       "    </tr>\n",
       "    <tr>\n",
       "      <th>5</th>\n",
       "      <td>52.195839</td>\n",
       "      <td>5.073326</td>\n",
       "    </tr>\n",
       "  </tbody>\n",
       "</table>\n",
       "</div>"
      ],
      "text/plain": [
       "         lat       lon\n",
       "0  51.690536  5.890132\n",
       "1  51.727300  5.672410\n",
       "2  51.976470  5.381480\n",
       "3  52.126500  5.328650\n",
       "4  52.189770  5.185800\n",
       "5  52.195839  5.073326"
      ]
     },
     "execution_count": 10,
     "metadata": {},
     "output_type": "execute_result"
    }
   ],
   "source": [
    "# here the points as defined by the students are entered\n",
    "# the points below are included as an example\n",
    "\n",
    "coord_1 = [51.72730,5.67241]\n",
    "coord_2 = [51.97647,5.38148]\n",
    "coord_3 = [52.12650,5.32865]\n",
    "coord_4 = [52.18977,5.18580]\n",
    "coord_5 = []\n",
    "\n",
    "# coord_1 = []\n",
    "# coord_2 = []\n",
    "# coord_3 = []\n",
    "# coord_4 = []\n",
    "# coord_5 = []\n",
    "\n",
    "#the coords are appended into a dataframe, which is printed to quickly see if anything went wrong\n",
    "coords = append_coords(start_coord, coord_1, coord_2, coord_3, coord_4, coord_5, last_coord)\n",
    "coords"
   ]
  },
  {
   "cell_type": "code",
   "execution_count": 13,
   "metadata": {},
   "outputs": [],
   "source": [
    "# empty list is created that will contain the points in case an export to GIS is made\n",
    "points_df = []\n",
    "\n",
    "# distance and noise are set to 0 for this run\n",
    "afstand = 0\n",
    "geluid = 0\n",
    "\n",
    "# the coords dataframe above is looped through in n-1 steps, as the segments and not the individual points are needed\n",
    "for j in range(len(coords)-1):\n",
    "    # the start and end points of a segments are turned into shapely points\n",
    "    p1 = shapely.Point(coords.lon.iloc[j],      coords.lat.iloc[j])\n",
    "    p2 = shapely.Point(coords.lon.iloc[j+1],    coords.lat.iloc[j+1])\n",
    "    # these points are turned into a line\n",
    "    line = shapely.LineString([p1,p2])\n",
    "    # the distance is calculated between these points and it is added to the total\n",
    "    afstand += Distance(coords.lat.iloc[j], coords.lon.iloc[j], coords.lat.iloc[j+1], coords.lon.iloc[j+1])\n",
    "\n",
    "    # here the line is split into segments\n",
    "    distances = np.arange(0, line.length, segmentlength)\n",
    "    #points are created at the ends of these segments\n",
    "    points = [line.interpolate(distance) for distance in distances]\n",
    "    \n",
    "    # the list of points is run through\n",
    "    for i in range(len(points)):\n",
    "        # points are added to the list created above\n",
    "        points_df.append(points[i])\n",
    "\n",
    "        # the noise value is calculated for a circle with radius 400 and 800 meters from the point and added to the total\n",
    "        geluid += data.loc[points[i].buffer(shapely_meter*1600).contains(data.geometry)].inwoners.values.sum() / len(data.loc[points[i].buffer(shapely_meter*1600).contains(data.geometry)])/2\n",
    "        geluid += data.loc[points[i].buffer(shapely_meter*800).contains(data.geometry)].inwoners.values.sum() / len(data.loc[points[i].buffer(shapely_meter*800).contains(data.geometry)])/2\n"
   ]
  },
  {
   "cell_type": "code",
   "execution_count": 14,
   "metadata": {},
   "outputs": [
    {
     "name": "stdout",
     "output_type": "stream",
     "text": [
      "Totale afstand van de route is 86.6579417947584 kilometer\n",
      "Het geluid op deze route is 26895.264453119304\n"
     ]
    }
   ],
   "source": [
    "#results are printed\n",
    "\n",
    "print(\"Totale afstand van de route is \" + str(afstand/1000) + ' kilometer')\n",
    "print(\"Het geluid op deze route is \" + str(geluid))"
   ]
  },
  {
   "attachments": {},
   "cell_type": "markdown",
   "metadata": {},
   "source": [
    "This concludes the main part, below is a cell that turns the defined route into a mp for QGIS that can be analyzed to find out what parts cause the most noise disturbance"
   ]
  },
  {
   "cell_type": "code",
   "execution_count": 15,
   "metadata": {},
   "outputs": [
    {
     "name": "stderr",
     "output_type": "stream",
     "text": [
      "C:\\Users\\posts\\AppData\\Local\\Temp\\ipykernel_25244\\4236046792.py:5: SettingWithCopyWarning: \n",
      "A value is trying to be set on a copy of a slice from a DataFrame\n",
      "\n",
      "See the caveats in the documentation: https://pandas.pydata.org/pandas-docs/stable/user_guide/indexing.html#returning-a-view-versus-a-copy\n",
      "  output.inwoners.iloc[i] = (data.loc[output.geometry.iloc[i].buffer(shapely_meter*1600).contains(data.geometry)].inwoners.values.sum() / len(data.loc[output.geometry.iloc[i].buffer(shapely_meter*1600).contains(data.geometry)])/2) + (data.loc[output.geometry.iloc[i].buffer(shapely_meter*800).contains(data.geometry)].inwoners.values.sum() / len(data.loc[output.geometry.iloc[i].buffer(shapely_meter*800).contains(data.geometry)])/2)\n"
     ]
    }
   ],
   "source": [
    "#a dataframe is created containing the points\n",
    "output = pd.DataFrame(points_df, columns=['geometry'])\n",
    "\n",
    "#an extra column that will contain the noise is added\n",
    "output['geluid'] = 0\n",
    "\n",
    "#all points are looped through\n",
    "for i in range(len(output)):\n",
    "    #the sound value per point as found above is added to each entry\n",
    "    output.geluid.iloc[i] = (data.loc[output.geometry.iloc[i].buffer(shapely_meter*1600).contains(data.geometry)].inwoners.values.sum() / len(data.loc[output.geometry.iloc[i].buffer(shapely_meter*1600).contains(data.geometry)])/2) + (data.loc[output.geometry.iloc[i].buffer(shapely_meter*800).contains(data.geometry)].inwoners.values.sum() / len(data.loc[output.geometry.iloc[i].buffer(shapely_meter*800).contains(data.geometry)])/2)\n",
    "output\n",
    "\n",
    "#the dataframe is turned into a geopandas dataframe and is exported\n",
    "output = geopandas.GeoDataFrame(output, geometry='geometry', crs='EPSG:4326')\n",
    "output.to_file('Groep_X_test_Y.shp', driver='ESRI Shapefile')"
   ]
  },
  {
   "attachments": {},
   "cell_type": "markdown",
   "metadata": {},
   "source": [
    "The following cells contain a method to evaluate a route based on how it would actually be flown, compared to the straight lines used above. This can be done via the BlueSky Traffic Simulator, which can be found at https://github.com/TUDelft-CNS-ATM/bluesky\n",
    "\n",
    "An example scenario file for BlueSky is contained in the folder as well.\n",
    "\n",
    "In the end this part wasnt used in the actual workshop, as the path differences between this and the straight line approach were negligible."
   ]
  },
  {
   "cell_type": "code",
   "execution_count": 35,
   "metadata": {},
   "outputs": [
    {
     "data": {
      "text/html": [
       "<div>\n",
       "<style scoped>\n",
       "    .dataframe tbody tr th:only-of-type {\n",
       "        vertical-align: middle;\n",
       "    }\n",
       "\n",
       "    .dataframe tbody tr th {\n",
       "        vertical-align: top;\n",
       "    }\n",
       "\n",
       "    .dataframe thead th {\n",
       "        text-align: right;\n",
       "    }\n",
       "</style>\n",
       "<table border=\"1\" class=\"dataframe\">\n",
       "  <thead>\n",
       "    <tr style=\"text-align: right;\">\n",
       "      <th></th>\n",
       "      <th>simt</th>\n",
       "      <th>lat</th>\n",
       "      <th>lon</th>\n",
       "    </tr>\n",
       "  </thead>\n",
       "  <tbody>\n",
       "    <tr>\n",
       "      <th>0</th>\n",
       "      <td>2.0</td>\n",
       "      <td>51.690536</td>\n",
       "      <td>5.890132</td>\n",
       "    </tr>\n",
       "    <tr>\n",
       "      <th>1</th>\n",
       "      <td>2.5</td>\n",
       "      <td>51.690756</td>\n",
       "      <td>5.888820</td>\n",
       "    </tr>\n",
       "    <tr>\n",
       "      <th>2</th>\n",
       "      <td>3.0</td>\n",
       "      <td>51.690975</td>\n",
       "      <td>5.887508</td>\n",
       "    </tr>\n",
       "    <tr>\n",
       "      <th>3</th>\n",
       "      <td>3.5</td>\n",
       "      <td>51.691195</td>\n",
       "      <td>5.886196</td>\n",
       "    </tr>\n",
       "    <tr>\n",
       "      <th>4</th>\n",
       "      <td>4.0</td>\n",
       "      <td>51.691415</td>\n",
       "      <td>5.884884</td>\n",
       "    </tr>\n",
       "    <tr>\n",
       "      <th>...</th>\n",
       "      <td>...</td>\n",
       "      <td>...</td>\n",
       "      <td>...</td>\n",
       "    </tr>\n",
       "    <tr>\n",
       "      <th>910</th>\n",
       "      <td>457.0</td>\n",
       "      <td>52.197780</td>\n",
       "      <td>5.063678</td>\n",
       "    </tr>\n",
       "    <tr>\n",
       "      <th>911</th>\n",
       "      <td>457.5</td>\n",
       "      <td>52.198043</td>\n",
       "      <td>5.062372</td>\n",
       "    </tr>\n",
       "    <tr>\n",
       "      <th>912</th>\n",
       "      <td>458.0</td>\n",
       "      <td>52.198306</td>\n",
       "      <td>5.061066</td>\n",
       "    </tr>\n",
       "    <tr>\n",
       "      <th>913</th>\n",
       "      <td>458.5</td>\n",
       "      <td>52.198568</td>\n",
       "      <td>5.059760</td>\n",
       "    </tr>\n",
       "    <tr>\n",
       "      <th>914</th>\n",
       "      <td>459.0</td>\n",
       "      <td>52.198831</td>\n",
       "      <td>5.058454</td>\n",
       "    </tr>\n",
       "  </tbody>\n",
       "</table>\n",
       "<p>915 rows × 3 columns</p>\n",
       "</div>"
      ],
      "text/plain": [
       "      simt        lat       lon\n",
       "0      2.0  51.690536  5.890132\n",
       "1      2.5  51.690756  5.888820\n",
       "2      3.0  51.690975  5.887508\n",
       "3      3.5  51.691195  5.886196\n",
       "4      4.0  51.691415  5.884884\n",
       "..     ...        ...       ...\n",
       "910  457.0  52.197780  5.063678\n",
       "911  457.5  52.198043  5.062372\n",
       "912  458.0  52.198306  5.061066\n",
       "913  458.5  52.198568  5.059760\n",
       "914  459.0  52.198831  5.058454\n",
       "\n",
       "[915 rows x 3 columns]"
      ]
     },
     "execution_count": 35,
     "metadata": {},
     "output_type": "execute_result"
    }
   ],
   "source": [
    "# a log file from bluesky is loaded\n",
    "flown_route = pd.read_csv(\"AAA - BLUESKYlog.log\", skiprows=1)\n",
    "\n",
    "#column labels are added for indexing\n",
    "flown_route.columns = [\"simt\", \"lat\", \"lon\"]\n",
    "flown_route\n"
   ]
  },
  {
   "cell_type": "code",
   "execution_count": 36,
   "metadata": {},
   "outputs": [],
   "source": [
    "# empty list is created that will contain the points in case an export to GIS is made\n",
    "points_df = []\n",
    "\n",
    "# distance and noise are set to 0 for this run\n",
    "afstand = 0\n",
    "geluid = 0\n",
    "\n",
    "\n",
    "# the flown route dataframe above is looped through in n-1 steps, these not being the segments as seen above but the logged positions\n",
    "for j in range(len(flown_route)-1):\n",
    "    # the start and end points of a segments are turned into shapely points\n",
    "    p1 = shapely.Point(flown_route.lon.iloc[j],      flown_route.lat.iloc[j])\n",
    "    p2 = shapely.Point(flown_route.lon.iloc[j+1],    flown_route.lat.iloc[j+1])\n",
    "    # these points are turned into a line\n",
    "    line = shapely.LineString([p1,p2])\n",
    "    # the distance is calculated between these points and it is added to the total\n",
    "    afstand += Distance(flown_route.lat.iloc[j], flown_route.lon.iloc[j], flown_route.lat.iloc[j+1], flown_route.lon.iloc[j+1])\n",
    "    \n",
    "    # points are added to the list created above\n",
    "    points_df.append(p1)\n",
    "    # the noise value is calculated for a circle with radius 400 and 800 meters from the point and added to the total\n",
    "    geluid += data.loc[p1.buffer(shapely_meter*1600).contains(data.geometry)].inwoners.values.sum() / len(data.loc[p1.buffer(shapely_meter*1600).contains(data.geometry)])/2\n",
    "    geluid += data.loc[p1.buffer(shapely_meter*800).contains(data.geometry)].inwoners.values.sum() / len(data.loc[p1.buffer(shapely_meter*800).contains(data.geometry)])/2\n",
    "\n",
    " "
   ]
  },
  {
   "cell_type": "code",
   "execution_count": 37,
   "metadata": {},
   "outputs": [
    {
     "name": "stdout",
     "output_type": "stream",
     "text": [
      "Totale afstand van de route is 85.77735630157518 kilometer\n",
      "Het geluid op deze route is 38883.17621635607\n"
     ]
    }
   ],
   "source": [
    "#results are printed\n",
    "\n",
    "print(\"Totale afstand van de route is \" + str(afstand/1000) + ' kilometer')\n",
    "print(\"Het geluid op deze route is \" + str(geluid))"
   ]
  },
  {
   "cell_type": "code",
   "execution_count": 38,
   "metadata": {},
   "outputs": [
    {
     "name": "stderr",
     "output_type": "stream",
     "text": [
      "C:\\Users\\posts\\AppData\\Local\\Temp\\ipykernel_12152\\2182384513.py:5: SettingWithCopyWarning: \n",
      "A value is trying to be set on a copy of a slice from a DataFrame\n",
      "\n",
      "See the caveats in the documentation: https://pandas.pydata.org/pandas-docs/stable/user_guide/indexing.html#returning-a-view-versus-a-copy\n",
      "  output.inwoners.iloc[i] = (data.loc[output.geometry.iloc[i].buffer(shapely_meter*1600).contains(data.geometry)].inwoners.values.sum() / len(data.loc[output.geometry.iloc[i].buffer(shapely_meter*1600).contains(data.geometry)])/2) + (data.loc[output.geometry.iloc[i].buffer(shapely_meter*800).contains(data.geometry)].inwoners.values.sum() / len(data.loc[output.geometry.iloc[i].buffer(shapely_meter*800).contains(data.geometry)])/2)\n"
     ]
    }
   ],
   "source": [
    "#a dataframe is created containing the points\n",
    "output = pd.DataFrame(points_df, columns=['geometry'])\n",
    "\n",
    "#an extra column that will contain the noise is added\n",
    "output['geluid'] = 0\n",
    "\n",
    "#all points are looped through\n",
    "for i in range(len(output)):\n",
    "    #the sound value per point as found above is added to each entry\n",
    "    output.geluid.iloc[i] = (data.loc[output.geometry.iloc[i].buffer(shapely_meter*1600).contains(data.geometry)].inwoners.values.sum() / len(data.loc[output.geometry.iloc[i].buffer(shapely_meter*1600).contains(data.geometry)])/2) + (data.loc[output.geometry.iloc[i].buffer(shapely_meter*800).contains(data.geometry)].inwoners.values.sum() / len(data.loc[output.geometry.iloc[i].buffer(shapely_meter*800).contains(data.geometry)])/2)\n",
    "output\n",
    "\n",
    "#the dataframe is turned into a geopandas dataframe and is exported\n",
    "output = geopandas.GeoDataFrame(output, geometry='geometry', crs='EPSG:4326')\n",
    "output.to_file('Groep_X_test_Y_flown.shp', driver='ESRI Shapefile')"
   ]
  },
  {
   "attachments": {},
   "cell_type": "markdown",
   "metadata": {},
   "source": [
    "Below are some more options for evaluating sound at a point"
   ]
  },
  {
   "cell_type": "code",
   "execution_count": 196,
   "metadata": {},
   "outputs": [
    {
     "data": {
      "text/plain": [
       "<AxesSubplot: >"
      ]
     },
     "execution_count": 196,
     "metadata": {},
     "output_type": "execute_result"
    },
    {
     "data": {
      "image/png": "[encoded data removed]",
      "text/plain": [
       "<Figure size 640x480 with 1 Axes>"
      ]
     },
     "metadata": {},
     "output_type": "display_data"
    }
   ],
   "source": [
    "i = 4\n",
    "bonus = 1000\n",
    "\n",
    "coords1 = points[i].x + (shapely_meter*bonus), points[i].y + (shapely_meter*bonus)\n",
    "coords2 = points[i].x - (shapely_meter*bonus), points[i].y + (shapely_meter*bonus)\n",
    "coords3 = points[i].x - (shapely_meter*bonus), points[i].y - (shapely_meter*bonus)\n",
    "coords4 = points[i].x + (shapely_meter*bonus), points[i].y - (shapely_meter*bonus)\n",
    "coords5 = points[i].x + (shapely_meter*bonus), points[i].y + (shapely_meter*bonus)\n",
    "\n",
    "p6 = shapely.Polygon([coords1,coords2,coords3,coords4,coords5])\n",
    "data.loc[p6.intersects(data.geometry)].geometry.plot()"
   ]
  },
  {
   "cell_type": "code",
   "execution_count": 198,
   "metadata": {},
   "outputs": [
    {
     "data": {
      "text/plain": [
       "<AxesSubplot: >"
      ]
     },
     "execution_count": 198,
     "metadata": {},
     "output_type": "execute_result"
    },
    {
     "data": {
      "image/png": "[encoded data removed]",
      "text/plain": [
       "<Figure size 640x480 with 1 Axes>"
      ]
     },
     "metadata": {},
     "output_type": "display_data"
    }
   ],
   "source": [
    "p7 =  points[i].buffer(shapely_meter*1600)\n",
    "data.loc[p7.contains(data.geometry)].geometry.plot()"
   ]
  },
  {
   "cell_type": "code",
   "execution_count": 155,
   "metadata": {},
   "outputs": [
    {
     "data": {
      "text/plain": [
       "15"
      ]
     },
     "execution_count": 155,
     "metadata": {},
     "output_type": "execute_result"
    }
   ],
   "source": [
    "p5 = points[0]\n",
    "data.loc[p5.buffer(shapely_meter*1000).contains(data.geometry)].inwoners.values.sum()"
   ]
  },
  {
   "attachments": {},
   "cell_type": "markdown",
   "metadata": {},
   "source": [
    "As can be seen below the methods don't differ too much"
   ]
  },
  {
   "cell_type": "code",
   "execution_count": 201,
   "metadata": {},
   "outputs": [
    {
     "data": {
      "text/plain": [
       "(121730, 125435.51665725569, 127096.1031746032)"
      ]
     },
     "execution_count": 201,
     "metadata": {},
     "output_type": "execute_result"
    }
   ],
   "source": [
    "totaal1 = 0\n",
    "totaal2 = 0\n",
    "totaal3 = 0\n",
    "\n",
    "for i in range(len(points)):\n",
    "    totaal1 += data.loc[points[i].within(data.geometry)].inwoners.values[0]\n",
    "    totaal2 += data.loc[points[i].buffer(shapely_meter*1600).contains(data.geometry)].inwoners.values.sum() / len(data.loc[points[i].buffer(shapely_meter*1600).contains(data.geometry)])/2\n",
    "    totaal2 += data.loc[points[i].buffer(shapely_meter*800).contains(data.geometry)].inwoners.values.sum() / len(data.loc[points[i].buffer(shapely_meter*800).contains(data.geometry)])/2\n",
    "\n",
    "    coords1 = points[i].x + (shapely_meter*500), points[i].y + (shapely_meter*500)\n",
    "    coords2 = points[i].x - (shapely_meter*500), points[i].y + (shapely_meter*500)\n",
    "    coords3 = points[i].x - (shapely_meter*500), points[i].y - (shapely_meter*500)\n",
    "    coords4 = points[i].x + (shapely_meter*500), points[i].y - (shapely_meter*500)\n",
    "    coords5 = points[i].x + (shapely_meter*500), points[i].y + (shapely_meter*500)\n",
    "\n",
    "    p6 = shapely.Polygon([coords1,coords2,coords3,coords4,coords5])\n",
    "    \n",
    "\n",
    "    totaal3 += data.loc[p6.overlaps(data.geometry)].inwoners.values.sum() / len(data.loc[p6.overlaps(data.geometry)])\n",
    "\n",
    "\n",
    "totaal1, totaal2, totaal3"
   ]
  }
 ],
 "metadata": {
  "kernelspec": {
   "display_name": "ilabs311",
   "language": "python",
   "name": "python3"
  },
  "language_info": {
   "codemirror_mode": {
    "name": "ipython",
    "version": 3
   },
   "file_extension": ".py",
   "mimetype": "text/x-python",
   "name": "python",
   "nbconvert_exporter": "python",
   "pygments_lexer": "ipython3",
   "version": "3.11.0"
  },
  "orig_nbformat": 4
 },
 "nbformat": 4,
 "nbformat_minor": 2
}
