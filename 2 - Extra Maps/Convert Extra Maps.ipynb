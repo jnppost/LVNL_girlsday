{
 "cells": [
  {
   "attachments": {},
   "cell_type": "markdown",
   "metadata": {},
   "source": [
    "This script creates extra maps next to the main data file that are needed for contextualising the map for prints. This script contains both a way to implement a start and finish point, and a way to display the Schiphol TMA on a map of the Netherlands. The data for the TMA was gathered from https://eaip.lvnl.nl\n",
    "\n",
    "Based on your wants, the start and end points can be customised. However, be sure to change them in the script that calculates distance and noise as well!"
   ]
  },
  {
   "cell_type": "code",
   "execution_count": 1,
   "metadata": {},
   "outputs": [],
   "source": [
    "# import needed packages\n",
    "\n",
    "import pandas as pd\n",
    "import geopandas\n",
    "import shapely"
   ]
  },
  {
   "attachments": {},
   "cell_type": "markdown",
   "metadata": {},
   "source": [
    "The next 2 cells create a map that contains a Point geometry for the entry and exit"
   ]
  },
  {
   "cell_type": "code",
   "execution_count": null,
   "metadata": {},
   "outputs": [],
   "source": [
    "# enter coordinates were path will begin and end\n",
    "# the last coord is a corner of the TMa in this case,\n",
    "# the start is chosen arbitrarily\n",
    "\n",
    "start_coord = [[51.690536,5.890132]]\n",
    "last_coord = [52.1958388,5.0733256]"
   ]
  },
  {
   "cell_type": "code",
   "execution_count": 10,
   "metadata": {},
   "outputs": [],
   "source": [
    "# converts coordinates entered above to geometries\n",
    "p1 = shapely.Point(start_coord[0][1], start_coord[0][0])\n",
    "p2 = shapely.Point(last_coord[1], last_coord[0])\n",
    "\n",
    "# appends geometries to list\n",
    "lst3 = []\n",
    "lst3.append(p1)\n",
    "lst3.append(p2)\n",
    "\n",
    "#list with parameters is needed for shapefile\n",
    "lst4 = [0, 0]\n",
    "\n",
    "#lists are combined into geodataframe\n",
    "outputdata = pd.DataFrame((lst4,lst3))\n",
    "outputdata = outputdata.T\n",
    "outputdata.columns = [\"niks\", \"Polygon\" ]\n",
    "outputdata = geopandas.GeoDataFrame(outputdata, geometry='Polygon', crs='EPSG:4326')\n",
    "\n",
    "#geodataframe is exported\n",
    "outputdata.to_file('B - Output//EntryExit.shp', driver='ESRI Shapefile')\n"
   ]
  },
  {
   "attachments": {},
   "cell_type": "markdown",
   "metadata": {},
   "source": [
    "This block creates the map for the TMA"
   ]
  },
  {
   "cell_type": "code",
   "execution_count": 11,
   "metadata": {},
   "outputs": [],
   "source": [
    "inputdata = pd.read_csv('A - Input//TMA.csv', sep = ';', header=None)\n",
    "\n",
    "lst3 = []\n",
    "\n",
    "for i in range(10):\n",
    "    deg = int(str(inputdata.iloc[i,0])[0:2])\n",
    "    minutes = int(str(inputdata.iloc[i,0])[2:4])\n",
    "    seconds = int(str(inputdata.iloc[i,0])[4:6]) + (int(str(inputdata.iloc[i,0])[6:8])/100)\n",
    "\n",
    "    inputdata.iloc[i,0] = (float(deg) + float(minutes)/60 + float(seconds)/(60*60))\n",
    "\n",
    "    deg = int(str(inputdata.iloc[i,1])[0:1])\n",
    "    minutes = int(str(inputdata.iloc[i,1])[1:3])\n",
    "    seconds = int(str(inputdata.iloc[i,1])[3:5]) + (int(str(inputdata.iloc[i,1])[5:7])/100)\n",
    "\n",
    "    inputdata.iloc[i,1] = (float(deg) + float(minutes)/60 + float(seconds)/(60*60))\n",
    "    lst3.append((inputdata.iloc[i,1], inputdata.iloc[i,0]))\n",
    "\n",
    "lst4 = 0\n",
    "lst3 = shapely.Polygon(lst3)\n",
    "\n",
    "outputdata = pd.DataFrame((lst4,lst3))\n",
    "outputdata = outputdata.T\n",
    "outputdata.columns = [\"niks\", \"Polygon\" ]\n",
    "outputdata = geopandas.GeoDataFrame(outputdata, geometry='Polygon', crs='EPSG:4326')\n",
    "\n",
    "outputdata.to_file('B - Output//SchipholTMA.shp', driver='ESRI Shapefile')"
   ]
  }
 ],
 "metadata": {
  "kernelspec": {
   "display_name": "ilabs311",
   "language": "python",
   "name": "python3"
  },
  "language_info": {
   "codemirror_mode": {
    "name": "ipython",
    "version": 3
   },
   "file_extension": ".py",
   "mimetype": "text/x-python",
   "name": "python",
   "nbconvert_exporter": "python",
   "pygments_lexer": "ipython3",
   "version": "3.11.0"
  },
  "orig_nbformat": 4
 },
 "nbformat": 4,
 "nbformat_minor": 2
}
